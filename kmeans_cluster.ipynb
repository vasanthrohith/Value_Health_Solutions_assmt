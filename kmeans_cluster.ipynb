{
  "nbformat": 4,
  "nbformat_minor": 0,
  "metadata": {
    "colab": {
      "provenance": [],
      "authorship_tag": "ABX9TyMr8HnMeT9Hs1+FosZ6Xafn",
      "include_colab_link": true
    },
    "kernelspec": {
      "name": "python3",
      "display_name": "Python 3"
    },
    "language_info": {
      "name": "python"
    }
  },
  "cells": [
    {
      "cell_type": "markdown",
      "metadata": {
        "id": "view-in-github",
        "colab_type": "text"
      },
      "source": [
        "<a href=\"https://colab.research.google.com/github/vasanthrohith/Value_Health_Solutions_assmt/blob/main/kmeans_cluster.ipynb\" target=\"_parent\"><img src=\"https://colab.research.google.com/assets/colab-badge.svg\" alt=\"Open In Colab\"/></a>"
      ]
    },
    {
      "cell_type": "code",
      "source": [
        "pip install matplotlib\n"
      ],
      "metadata": {
        "id": "n4N9khIs55fT"
      },
      "execution_count": null,
      "outputs": []
    },
    {
      "cell_type": "code",
      "source": [
        "import matplotlib.pyplot as plt"
      ],
      "metadata": {
        "id": "PgmhlcsA5xjc"
      },
      "execution_count": 12,
      "outputs": []
    },
    {
      "cell_type": "code",
      "execution_count": 6,
      "metadata": {
        "id": "ffCUvfUBeXxz"
      },
      "outputs": [],
      "source": [
        "import pandas as pd\n",
        "from sklearn.cluster import KMeans\n",
        "import numpy as np\n",
        "\n",
        "dataset=pd.read_csv(\"/content/Mall.csv\")\n",
        "x=dataset.iloc[:,[3,4]]\n",
        "\n"
      ]
    },
    {
      "cell_type": "code",
      "source": [
        "print(x)"
      ],
      "metadata": {
        "id": "Yojdwgo65CP7"
      },
      "execution_count": null,
      "outputs": []
    },
    {
      "cell_type": "code",
      "source": [
        "wcss=[]\n",
        "for i in range(1,20):\n",
        "    kmeans=KMeans(n_clusters=i,init='k-means++',random_state=0)\n",
        "    kmeans.fit(x)\n",
        "    wcss.append(kmeans.inertia_)"
      ],
      "metadata": {
        "id": "t3Z8k17F5GpF"
      },
      "execution_count": null,
      "outputs": []
    },
    {
      "cell_type": "code",
      "source": [
        "type(wcss)"
      ],
      "metadata": {
        "colab": {
          "base_uri": "https://localhost:8080/"
        },
        "id": "jjjq5TuX5g0e",
        "outputId": "3564c091-f1eb-4833-fb20-6a9f50d77efb"
      },
      "execution_count": 23,
      "outputs": [
        {
          "output_type": "execute_result",
          "data": {
            "text/plain": [
              "list"
            ]
          },
          "metadata": {},
          "execution_count": 23
        }
      ]
    },
    {
      "cell_type": "code",
      "source": [
        "# Elbow Method: used to find the optimum clusters can be formed with the given dataset\n",
        "# 3rd bend is considered as the best range of clusters\n",
        "\n",
        "\n",
        "# Visualization\n",
        "plt.figure(dpi=300)\n",
        "plt.plot(range(1,20),wcss)\n",
        "plt.scatter(range(1,20),wcss)\n",
        "plt.title(\"Elbow bend\")\n",
        "plt.xlabel(\"number of cluster\")\n",
        "plt.ylabel(\"WCSS\")\n",
        "plt.show()\n",
        "\n"
      ],
      "metadata": {
        "id": "0rybVrO55kam"
      },
      "execution_count": null,
      "outputs": []
    },
    {
      "cell_type": "code",
      "source": [
        "def clustering(dataset,num_clusetrs):\n",
        "    labels=kmeans.labels_\n",
        "    return labels\n",
        "num_clusetrs=4\n",
        "clusters=clustering(x,num_clusetrs)\n",
        "print(clusters)\n",
        "print(type(clusters))\n",
        "\n",
        "x[\"Cluster\"]=clusters\n",
        "\n"
      ],
      "metadata": {
        "id": "oMYGPMNM7IaC"
      },
      "execution_count": null,
      "outputs": []
    },
    {
      "cell_type": "code",
      "source": [
        "x"
      ],
      "metadata": {
        "id": "oq4yVOIL-HDX"
      },
      "execution_count": null,
      "outputs": []
    },
    {
      "cell_type": "markdown",
      "source": [
        "in one leaflet"
      ],
      "metadata": {
        "id": "oQnYwJoL-5On"
      }
    },
    {
      "cell_type": "code",
      "source": [
        "import matplotlib.pyplot as plt\n",
        "import pandas as pd\n",
        "from sklearn.cluster import KMeans\n",
        "import numpy as np\n",
        "\n",
        "dataset=pd.read_csv(\"/content/Mall.csv\")\n",
        "df=dataset.iloc[:,[3,4]]\n",
        "\n",
        "\n",
        "wcss=[]\n",
        "for i in range(1,20):\n",
        "    kmeans=KMeans(n_clusters=i,init='k-means++',random_state=0)\n",
        "    kmeans.fit(df)\n",
        "    wcss.append(kmeans.inertia_)\n",
        "\n",
        "# Elbow Method: used to find the optimum clusters can be formed with the given dataset\n",
        "# 3rd bend is considered as the best range of clusters\n",
        "\n",
        "\n",
        "# Visualization\n",
        "plt.figure(dpi=300)\n",
        "plt.plot(range(1,20),wcss)\n",
        "plt.scatter(range(1,20),wcss)\n",
        "plt.title(\"Elbow bend\")\n",
        "plt.xlabel(\"number of cluster\")\n",
        "plt.ylabel(\"WCSS\")\n",
        "plt.show()\n",
        "\n",
        "\n",
        "def clustering(dataset,num_clusetrs):\n",
        "    labels=kmeans.labels_\n",
        "    return labels\n",
        "num_clusetrs=4\n",
        "clusters=clustering(x,num_clusetrs)\n",
        "print(clusters)\n",
        "print(type(clusters))\n",
        "\n",
        "df[\"Cluster\"]=clusters\n",
        "\n",
        "print(df)\n",
        "\n",
        "\n"
      ],
      "metadata": {
        "id": "SnvxhEOl-omz"
      },
      "execution_count": null,
      "outputs": []
    }
  ]
}