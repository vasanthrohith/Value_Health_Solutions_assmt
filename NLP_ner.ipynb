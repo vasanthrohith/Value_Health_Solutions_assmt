{
  "nbformat": 4,
  "nbformat_minor": 0,
  "metadata": {
    "colab": {
      "provenance": [],
      "toc_visible": true,
      "authorship_tag": "ABX9TyMF1gAJ6fnriLYzoybpUUfc",
      "include_colab_link": true
    },
    "kernelspec": {
      "name": "python3",
      "display_name": "Python 3"
    },
    "language_info": {
      "name": "python"
    }
  },
  "cells": [
    {
      "cell_type": "markdown",
      "metadata": {
        "id": "view-in-github",
        "colab_type": "text"
      },
      "source": [
        "<a href=\"https://colab.research.google.com/github/vasanthrohith/Value_Health_Solutions_assmt/blob/main/NLP_ner.ipynb\" target=\"_parent\"><img src=\"https://colab.research.google.com/assets/colab-badge.svg\" alt=\"Open In Colab\"/></a>"
      ]
    },
    {
      "cell_type": "code",
      "source": [
        "# pip install dateparser"
      ],
      "metadata": {
        "id": "Qm_u3XvBTh2l"
      },
      "execution_count": null,
      "outputs": []
    },
    {
      "cell_type": "code",
      "source": [
        "import spacy.cli\n",
        "spacy.cli.download(\"en_core_web_lg\")"
      ],
      "metadata": {
        "colab": {
          "base_uri": "https://localhost:8080/"
        },
        "id": "_tvmESynm-4B",
        "outputId": "fb434403-1c2f-4c20-e84f-abe3515c5545"
      },
      "execution_count": 3,
      "outputs": [
        {
          "output_type": "stream",
          "name": "stdout",
          "text": [
            "\u001b[38;5;2m✔ Download and installation successful\u001b[0m\n",
            "You can now load the package via spacy.load('en_core_web_lg')\n"
          ]
        }
      ]
    },
    {
      "cell_type": "code",
      "execution_count": 4,
      "metadata": {
        "id": "0_nFMx-hsTHw"
      },
      "outputs": [],
      "source": [
        "import spacy\n",
        "from spacy import displacy\n",
        "from spacy.matcher import Matcher\n",
        "from dateparser.search import search_dates\n",
        "import re"
      ]
    },
    {
      "cell_type": "markdown",
      "source": [
        "USING lg maodel\n",
        "\n",
        "can able to recog phone as CARDINAL \n",
        "\n",
        "problem:\n",
        "\n",
        "\n",
        "1.   both 1\\1\\1 and phone are recog as cardinal\n",
        "2.   \n",
        "\n"
      ],
      "metadata": {
        "id": "Wjhyy2aAsA3e"
      }
    },
    {
      "cell_type": "code",
      "source": [
        "\n",
        "\n",
        "def NER(text):\n",
        "    ner=spacy.load(\"en_core_web_lg\")  \n",
        "    result=ner(text)\n",
        "\n",
        "    #displacy.render(result,style=\"ent\",jupyter=True)   #for visual representation\n",
        "\n",
        "    # print(type(result))\n",
        "    # print(result)\n",
        "    date_list=[]\n",
        "    for i in result.ents:\n",
        "        # print(i.label_,\"|\",i.text)\n",
        "        # print(spacy.explain(i.label_))\n",
        "        if i.label_==\"PERSON\":\n",
        "            print(\"Name: \",i.text)\n",
        "        elif i.label_==\"DATE\": \n",
        "            print(\"Date: \",i.text)\n",
        "        elif i.label_==\"CARDINAL\": #All the numerals are recognized as CARDINAL including date and Phone \n",
        "                                    # to overcome that and separate phone from date i used this logic\n",
        "            if len(i.text)>=10:\n",
        "                try:\n",
        "                    a=int(i.text)\n",
        "                    ind_cc=\"+91\"\n",
        "                    print(\"Phone :\",ind_cc,i.text)\n",
        "                    # print(\"Phone: \",i.text)\n",
        "                except Exception as e:\n",
        "                    pass\n",
        "\n",
        "        elif i.label_==\"GPE\":\n",
        "            print(\"Location: \",i.text)\n",
        "\n",
        "        elif i.label_==\"ORG\":\n",
        "            print(\"Organization: \",i.text)\n",
        "      \n",
        "\n",
        "    if len(date_list)==0:    #some data formats are not recognized as date by spacy eg:7-12-2000 \n",
        "                              # so i used \"datesearch\"\n",
        "        date=search_dates(text)\n",
        "        format=date[0][1]\n",
        "        print(\"Date(F): \",format.strftime(\"%m %d %Y\"))\n",
        "\n",
        "\n",
        "text=\"My name is shankar and i Was born On 1-2-2023  in coimbatore. working in Connected Value Health Solutions since 10/6/2023. my phone number is 9952463879\"\n",
        "\n",
        "NER(text)\n",
        "\n",
        "\n",
        "\n",
        "  "
      ],
      "metadata": {
        "colab": {
          "base_uri": "https://localhost:8080/"
        },
        "id": "RLIpL-KhuNDR",
        "outputId": "3e671c2f-7090-488f-bd24-413ff6fd0853"
      },
      "execution_count": 6,
      "outputs": [
        {
          "output_type": "stream",
          "name": "stdout",
          "text": [
            "Name:  shankar\n",
            "Location:  coimbatore\n",
            "Organization:  Connected Value Health Solutions\n",
            "Date:  10/6/2023\n",
            "Phone : +91 9952463879\n",
            "Date(F):  01 02 2023\n"
          ]
        }
      ]
    },
    {
      "cell_type": "markdown",
      "source": [
        "USING sm\n",
        "\n",
        "problem:\n",
        "\n",
        "\n",
        "1.   many local location can't be recognised\n",
        "2.   phone and dates are showing as DATE\n",
        "\n",
        "\n"
      ],
      "metadata": {
        "id": "1_qM5yT-p5wT"
      }
    },
    {
      "cell_type": "code",
      "source": [
        "def tilte_word(text):\n",
        "  word_list=text.split()\n",
        "  # print(word_list)\n",
        "  stop_words=[\"is\",\"was\",\"i\",\"am\",\"Iam\",\"iam\"]\n",
        "  new_list=[]\n",
        "  for i in word_list:\n",
        "    if i not in stop_words:\n",
        "      new_list.append(i.title())\n",
        "    else:\n",
        "      new_list.append(i)\n",
        "\n",
        "\n",
        "  # print(new_list)\n",
        "  new_text=\" \".join(new_list)\n",
        "  # print(new_text)\n",
        "\n",
        "  return new_text\n",
        "\n",
        "\n",
        "\n",
        "\n",
        "def NER(text):\n",
        "  ner=spacy.load(\"en_core_web_sm\")  \n",
        "  result=ner(text)\n",
        "  # print(type(result))\n",
        "  # print(result)\n",
        "  date_list=[]\n",
        "  for i in result.ents:\n",
        "    # print(i.label_,\"|\",i.text)\n",
        "    # print(spacy.explain(i.label_))\n",
        "    if i.label_==\"PERSON\":\n",
        "      print(\"Name: \",i.text)\n",
        "\n",
        "    elif i.label_==\"DATE\":                 #Both phone number and date are considared as date label \n",
        "      # print(i.label_,\"|\",i.text)              # to overcome this i used this logic.\n",
        "      if len(i.text)>=10:\n",
        "        try:\n",
        "          a=int(i.text)\n",
        "          ind_cc=\"+91\"\n",
        "          print(\"Phone number :\",ind_cc,i.text)\n",
        "        except Exception as e:\n",
        "          print(\"Date: \",i.text)\n",
        "          date_list.append(\"Date\")\n",
        "\n",
        "    elif i.label_==\"GPE\":\n",
        "      print(\"Location: \",i.text)\n",
        "\n",
        "    elif i.label_==\"ORG\":\n",
        "      print(\"Organization: \",i.text)\n",
        "    \n",
        "\n",
        "  if len(date_list)==0:    #some data formats are not recognized as date by spacy eg:7/12/2000 \n",
        "                            # so i used \"datesearch\"\n",
        "    date=search_dates(text)\n",
        "    format=date[0][1]\n",
        "    print(\"Date(F): \",format.strftime(\"%m %d %Y\"))\n",
        "\n",
        "\n",
        "text=\"My name is Shankar and i Was Born On 1/2/23 in Coimbatore. working in Connected Value Health Solutions. my phone number is 9952463879\"\n",
        "\n",
        "# new_text=tilte_word(text)\n",
        "\n",
        "# print(new_text)\n",
        "NER(text)"
      ],
      "metadata": {
        "colab": {
          "base_uri": "https://localhost:8080/"
        },
        "id": "U0T-t7bVoK2E",
        "outputId": "715f264b-8830-4f06-da81-0703fb68c456"
      },
      "execution_count": 97,
      "outputs": [
        {
          "output_type": "stream",
          "name": "stdout",
          "text": [
            "Name:  Shankar\n",
            "Organization:  Coimbatore\n",
            "Organization:  Connected Value Health Solutions\n",
            "Phone number : +91 9952463879\n",
            "Date(F):  01 02 2023\n"
          ]
        }
      ]
    },
    {
      "cell_type": "code",
      "source": [
        "# from dateparser import parse\n",
        "from dateparser.search import search_dates\n",
        "\n",
        "a=\"I am Mr.Vasanth. i Was Born On 07-12-2000 in Salem. working in Connected Value Health Solutions\"\n",
        "b=search_dates(a)\n",
        "print(b[0][1])\n",
        "c=b[0][1]\n",
        "\n",
        "print(c.strftime(\"%b %d %Y\"))\n",
        "\n",
        "\n",
        "\n"
      ],
      "metadata": {
        "colab": {
          "base_uri": "https://localhost:8080/"
        },
        "id": "aMmjXV1acBZE",
        "outputId": "e4a6ee26-1bfc-488d-9772-4b598747b362"
      },
      "execution_count": null,
      "outputs": [
        {
          "output_type": "stream",
          "name": "stdout",
          "text": [
            "2000-07-12 00:00:00\n",
            "Jul 12 2000\n"
          ]
        }
      ]
    },
    {
      "cell_type": "code",
      "source": [
        "pip install dateparser"
      ],
      "metadata": {
        "colab": {
          "base_uri": "https://localhost:8080/"
        },
        "id": "-ae8C-QGfTRa",
        "outputId": "93f6180d-7f2e-437f-bbec-cc56781853dd"
      },
      "execution_count": null,
      "outputs": [
        {
          "output_type": "stream",
          "name": "stdout",
          "text": [
            "Looking in indexes: https://pypi.org/simple, https://us-python.pkg.dev/colab-wheels/public/simple/\n",
            "Collecting dateparser\n",
            "  Downloading dateparser-1.1.8-py2.py3-none-any.whl (293 kB)\n",
            "\u001b[2K     \u001b[90m━━━━━━━━━━━━━━━━━━━━━━━━━━━━━━━━━━━━━━━\u001b[0m \u001b[32m293.8/293.8 kB\u001b[0m \u001b[31m9.1 MB/s\u001b[0m eta \u001b[36m0:00:00\u001b[0m\n",
            "\u001b[?25hRequirement already satisfied: python-dateutil in /usr/local/lib/python3.10/dist-packages (from dateparser) (2.8.2)\n",
            "Requirement already satisfied: pytz in /usr/local/lib/python3.10/dist-packages (from dateparser) (2022.7.1)\n",
            "Requirement already satisfied: regex!=2019.02.19,!=2021.8.27 in /usr/local/lib/python3.10/dist-packages (from dateparser) (2022.10.31)\n",
            "Requirement already satisfied: tzlocal in /usr/local/lib/python3.10/dist-packages (from dateparser) (4.3)\n",
            "Requirement already satisfied: six>=1.5 in /usr/local/lib/python3.10/dist-packages (from python-dateutil->dateparser) (1.16.0)\n",
            "Requirement already satisfied: pytz-deprecation-shim in /usr/local/lib/python3.10/dist-packages (from tzlocal->dateparser) (0.1.0.post0)\n",
            "Requirement already satisfied: tzdata in /usr/local/lib/python3.10/dist-packages (from pytz-deprecation-shim->tzlocal->dateparser) (2023.3)\n",
            "Installing collected packages: dateparser\n",
            "Successfully installed dateparser-1.1.8\n"
          ]
        }
      ]
    },
    {
      "cell_type": "code",
      "source": [
        "# def NER(text):\n",
        "#   ner=spacy.load(\"en_core_web_sm\")  # en-core-web-sm?\n",
        "#   result=ner(text)\n",
        "#   print(type(result))\n",
        "#   print(result)\n",
        "#   for i in result.ents:\n",
        "#     # print(i.label_,\"|\",i.text)\n",
        "#     # print(spacy.explain(i.label_))\n",
        "#     if i.label_==\"PERSON\":\n",
        "#       print(\"Name: \",i.text)\n",
        "#     elif i.label_==\"DATE\":\n",
        "#       print(\"Date: \",i.text)\n",
        "#     elif i.label_==\"GPE\":\n",
        "#       print(\"Location: \",i.text)\n",
        "#     elif i.label_==\"ORG\":\n",
        "#       print(\"Organization: \",i.text)\n",
        "\n",
        "#     if len(i.text)>=10:\n",
        "#       try:\n",
        "#         a=int(i.text)\n",
        "#         ind_cc=\"+91\"\n",
        "#         print(\"Phone number :\",ind_cc,i.text)\n",
        "#       except Exception as e:\n",
        "#         pass\n",
        "    \n",
        "\n",
        "\n",
        "# # def add_phone(text):\n",
        "# #   ner=spacy.load(\"en_core_web_sm\") \n",
        "# #   result=ner(text)\n",
        "# #   print(result.text)\n",
        "# #   matcher=Matcher(ner.vocab)\n",
        "# #   pattern = [{\"ORTH\":\"+\"},{\"SHAPE\": \"dd\"},{'ORTH': '-', 'OP': '?'},{\"SHAPE\": \"\"}]\n",
        "# #   matcher.add(\"PHONE_NUMBER\", [pattern])\n",
        "# #   matches = matcher(result)\n",
        "# #   print(matches)\n",
        "# #   for match_id, start, end in matches:\n",
        "# #       span = text[start:end]\n",
        "# #       print(span.text)\n",
        "\n",
        "# text=\"I am Mr.Vasanth. i Was Born On 7 Dec 2000 in Salem. working in Connected Value Health Solutions\"\n",
        "# NER(text)\n",
        "# # add_phone(text)\n",
        "  "
      ],
      "metadata": {
        "id": "sFIv7bhILYQN"
      },
      "execution_count": null,
      "outputs": []
    }
  ]
}