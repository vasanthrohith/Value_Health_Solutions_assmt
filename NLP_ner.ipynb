{
  "nbformat": 4,
  "nbformat_minor": 0,
  "metadata": {
    "colab": {
      "provenance": [],
      "toc_visible": true,
      "authorship_tag": "ABX9TyN+y9slbLbbxc3spBQsn2rE",
      "include_colab_link": true
    },
    "kernelspec": {
      "name": "python3",
      "display_name": "Python 3"
    },
    "language_info": {
      "name": "python"
    }
  },
  "cells": [
    {
      "cell_type": "markdown",
      "metadata": {
        "id": "view-in-github",
        "colab_type": "text"
      },
      "source": [
        "<a href=\"https://colab.research.google.com/github/vasanthrohith/Value_Health_Solutions_assmt/blob/main/NLP_ner.ipynb\" target=\"_parent\"><img src=\"https://colab.research.google.com/assets/colab-badge.svg\" alt=\"Open In Colab\"/></a>"
      ]
    },
    {
      "cell_type": "code",
      "execution_count": 19,
      "metadata": {
        "id": "0_nFMx-hsTHw"
      },
      "outputs": [],
      "source": [
        "import spacy\n",
        "from spacy import displacy\n",
        "from spacy.matcher import Matcher"
      ]
    },
    {
      "cell_type": "code",
      "source": [
        "def NER(text):\n",
        "  ner=spacy.load(\"en_core_web_sm\")  # en-core-web-sm?\n",
        "  result=ner(text)\n",
        "  print(type(result))\n",
        "  print(result)\n",
        "  for i in result.ents:\n",
        "    # print(i.label_,\"|\",i.text)\n",
        "    # print(spacy.explain(i.label_))\n",
        "    if i.label_==\"PERSON\":\n",
        "      print(\"Name: \",i.text)\n",
        "    elif i.label_==\"DATE\":\n",
        "      print(\"Date: \",i.text)\n",
        "    elif i.label_==\"GPE\":\n",
        "      print(\"Location: \",i.text)\n",
        "    elif i.label_==\"ORG\":\n",
        "      print(\"Organization: \",i.text)\n",
        "\n",
        "    if len(i.text)>=10:\n",
        "      try:\n",
        "        a=int(i.text)\n",
        "        ind_cc=\"+91\"\n",
        "        print(\"Phone number :\",ind_cc,i.text)\n",
        "      except Exception as e:\n",
        "        pass\n",
        "    \n",
        "\n",
        "text=\"I am Mr.Vasanth. i Was Born On 7 Dec 2000 in Salem. working in Connected Value Health Solutions\"\n",
        "NER(text)\n",
        "# add_phone(text)\n",
        "  "
      ],
      "metadata": {
        "colab": {
          "base_uri": "https://localhost:8080/"
        },
        "id": "RLIpL-KhuNDR",
        "outputId": "d3e34c9a-320f-4663-c222-3e5061e62503"
      },
      "execution_count": 62,
      "outputs": [
        {
          "output_type": "stream",
          "name": "stdout",
          "text": [
            "<class 'spacy.tokens.doc.Doc'>\n",
            "I am Mr.Vasanth. i Was Born On 7 Dec 2000 in Salem. working in Connected Value Health Solutions\n",
            "Name:  Vasanth\n",
            "Date:  7 Dec 2000\n",
            "Location:  Salem\n",
            "Organization:  Connected Value Health Solutions\n"
          ]
        }
      ]
    },
    {
      "cell_type": "code",
      "source": [
        "# def NER(text):\n",
        "#   ner=spacy.load(\"en_core_web_sm\")  # en-core-web-sm?\n",
        "#   result=ner(text)\n",
        "#   print(type(result))\n",
        "#   print(result)\n",
        "#   for i in result.ents:\n",
        "#     # print(i.label_,\"|\",i.text)\n",
        "#     # print(spacy.explain(i.label_))\n",
        "#     if i.label_==\"PERSON\":\n",
        "#       print(\"Name: \",i.text)\n",
        "#     elif i.label_==\"DATE\":\n",
        "#       print(\"Date: \",i.text)\n",
        "#     elif i.label_==\"GPE\":\n",
        "#       print(\"Location: \",i.text)\n",
        "#     elif i.label_==\"ORG\":\n",
        "#       print(\"Organization: \",i.text)\n",
        "\n",
        "#     if len(i.text)>=10:\n",
        "#       try:\n",
        "#         a=int(i.text)\n",
        "#         ind_cc=\"+91\"\n",
        "#         print(\"Phone number :\",ind_cc,i.text)\n",
        "#       except Exception as e:\n",
        "#         pass\n",
        "    \n",
        "\n",
        "\n",
        "# # def add_phone(text):\n",
        "# #   ner=spacy.load(\"en_core_web_sm\") \n",
        "# #   result=ner(text)\n",
        "# #   print(result.text)\n",
        "# #   matcher=Matcher(ner.vocab)\n",
        "# #   pattern = [{\"ORTH\":\"+\"},{\"SHAPE\": \"dd\"},{'ORTH': '-', 'OP': '?'},{\"SHAPE\": \"\"}]\n",
        "# #   matcher.add(\"PHONE_NUMBER\", [pattern])\n",
        "# #   matches = matcher(result)\n",
        "# #   print(matches)\n",
        "# #   for match_id, start, end in matches:\n",
        "# #       span = text[start:end]\n",
        "# #       print(span.text)\n",
        "\n",
        "# text=\"I am Mr.Vasanth. i Was Born On 7 Dec 2000 in Salem. working in Connected Value Health Solutions\"\n",
        "# NER(text)\n",
        "# # add_phone(text)\n",
        "  "
      ],
      "metadata": {
        "id": "sFIv7bhILYQN"
      },
      "execution_count": null,
      "outputs": []
    }
  ]
}