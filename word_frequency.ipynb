{
  "nbformat": 4,
  "nbformat_minor": 0,
  "metadata": {
    "colab": {
      "provenance": [],
      "toc_visible": true,
      "authorship_tag": "ABX9TyMUcw3Mt05x360W+PC8s5wO",
      "include_colab_link": true
    },
    "kernelspec": {
      "name": "python3",
      "display_name": "Python 3"
    },
    "language_info": {
      "name": "python"
    }
  },
  "cells": [
    {
      "cell_type": "markdown",
      "metadata": {
        "id": "view-in-github",
        "colab_type": "text"
      },
      "source": [
        "<a href=\"https://colab.research.google.com/github/vasanthrohith/Value_Health_Solutions_assmt/blob/main/word_frequency.ipynb\" target=\"_parent\"><img src=\"https://colab.research.google.com/assets/colab-badge.svg\" alt=\"Open In Colab\"/></a>"
      ]
    },
    {
      "cell_type": "code",
      "execution_count": 2,
      "metadata": {
        "id": "fT4K4SrY48xz",
        "colab": {
          "base_uri": "https://localhost:8080/"
        },
        "outputId": "3a4e8db2-3923-4ed9-de74-bb5c787dc43b"
      },
      "outputs": [
        {
          "output_type": "stream",
          "name": "stdout",
          "text": [
            "Original text:  as soon as possible\n",
            "Splitted list:  ['as', 'soon', 'as', 'possible']\n",
            "{'as': 2, 'soon': 1, 'possible': 1}\n"
          ]
        }
      ],
      "source": [
        "def word_freq(text):\n",
        "  print(\"Original text: \",text)\n",
        "  text_list=text.split()\n",
        "  # To lower case\n",
        "  text_list=[x.lower() for x in text_list]\n",
        "  print(\"Splitted list: \",text_list)\n",
        "  \n",
        "  \n",
        "  word_dict={}\n",
        "  for j in text_list:\n",
        "\n",
        "    word_dict[j]=text_list.count(j)\n",
        "  \n",
        "  # print(\"word frequency dictionary: \",word_dict)\n",
        "  return word_dict\n",
        "\n",
        "\n",
        "text=\"as soon as possible\"\n",
        "freq_dict=word_freq(text)\n",
        "print(freq_dict)"
      ]
    }
  ]
}