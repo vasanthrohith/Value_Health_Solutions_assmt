{
  "nbformat": 4,
  "nbformat_minor": 0,
  "metadata": {
    "colab": {
      "provenance": [],
      "authorship_tag": "ABX9TyPiTX4BiHQANJRkqCNIM1KX",
      "include_colab_link": true
    },
    "kernelspec": {
      "name": "python3",
      "display_name": "Python 3"
    },
    "language_info": {
      "name": "python"
    }
  },
  "cells": [
    {
      "cell_type": "markdown",
      "metadata": {
        "id": "view-in-github",
        "colab_type": "text"
      },
      "source": [
        "<a href=\"https://colab.research.google.com/github/vasanthrohith/Value_Health_Solutions_assmt/blob/main/DecTree.ipynb\" target=\"_parent\"><img src=\"https://colab.research.google.com/assets/colab-badge.svg\" alt=\"Open In Colab\"/></a>"
      ]
    },
    {
      "cell_type": "markdown",
      "source": [
        "# Decision Tree Classification"
      ],
      "metadata": {
        "id": "2w9_Seee9hNH"
      }
    },
    {
      "cell_type": "code",
      "execution_count": 17,
      "metadata": {
        "id": "FcOR_xJv9Rpm"
      },
      "outputs": [],
      "source": [
        "import pandas as pd\n",
        "import matplotlib.pyplot as plt\n",
        "import numpy as np\n",
        "from sklearn.preprocessing import StandardScaler\n",
        "from sklearn.model_selection import train_test_split\n",
        "from sklearn.tree import DecisionTreeClassifier\n",
        "from sklearn.metrics import accuracy_score, confusion_matrix"
      ]
    },
    {
      "cell_type": "code",
      "source": [
        "dataset=pd.read_csv(\"/content/Iris_new.csv\",encoding='utf-8')\n",
        "print(dataset)"
      ],
      "metadata": {
        "id": "f93VJFZo9uIT"
      },
      "execution_count": null,
      "outputs": []
    },
    {
      "cell_type": "code",
      "source": [
        "x=dataset.iloc[:,0:4].values\n",
        "# print(x)\n",
        "y=dataset.iloc[:,[-1]].values\n",
        "# print(y)"
      ],
      "metadata": {
        "id": "Eo8wIYy_-Fzw"
      },
      "execution_count": null,
      "outputs": []
    },
    {
      "cell_type": "code",
      "source": [
        "from sklearn.preprocessing import StandardScaler\n",
        "sc=StandardScaler()\n",
        "x1=sc.fit_transform(x)\n",
        "print(x1)"
      ],
      "metadata": {
        "id": "l2Dz8AYd-rDt"
      },
      "execution_count": null,
      "outputs": []
    },
    {
      "cell_type": "code",
      "source": [
        "x1.shape"
      ],
      "metadata": {
        "colab": {
          "base_uri": "https://localhost:8080/"
        },
        "id": "u67LePKxHpxi",
        "outputId": "59b4c805-ad5a-4f78-a030-11d0d2f757e4"
      },
      "execution_count": 33,
      "outputs": [
        {
          "output_type": "execute_result",
          "data": {
            "text/plain": [
              "(150, 4)"
            ]
          },
          "metadata": {},
          "execution_count": 33
        }
      ]
    },
    {
      "cell_type": "code",
      "source": [
        "from sklearn.model_selection import train_test_split\n",
        "x_train,x_test,y_train,y_test=train_test_split(x1,y,test_size=0.30,random_state=0)"
      ],
      "metadata": {
        "id": "QbL0nVZ3_BM6"
      },
      "execution_count": 13,
      "outputs": []
    },
    {
      "cell_type": "code",
      "source": [
        "from sklearn.tree import DecisionTreeClassifier\n",
        "classifier=DecisionTreeClassifier(criterion='entropy',random_state=0)\n",
        "classifier.fit(x_train,y_train)\n"
      ],
      "metadata": {
        "id": "J9WUSF_b_gTZ"
      },
      "execution_count": null,
      "outputs": []
    },
    {
      "cell_type": "code",
      "source": [
        "y_pred=classifier.predict(x_test)\n"
      ],
      "metadata": {
        "id": "hn60t2LBAhPr"
      },
      "execution_count": 16,
      "outputs": []
    },
    {
      "cell_type": "code",
      "source": [
        "classifier.predict([[5.1,4.2,1.4,0.2]])"
      ],
      "metadata": {
        "colab": {
          "base_uri": "https://localhost:8080/"
        },
        "id": "dmInpKBxH7EF",
        "outputId": "62a18e5e-8b17-4f04-d8e0-3b1ce35ccfdf"
      },
      "execution_count": 35,
      "outputs": [
        {
          "output_type": "execute_result",
          "data": {
            "text/plain": [
              "array(['virginica'], dtype=object)"
            ]
          },
          "metadata": {},
          "execution_count": 35
        }
      ]
    },
    {
      "cell_type": "code",
      "source": [
        "from sklearn.metrics import accuracy_score, confusion_matrix\n",
        "cm=confusion_matrix(y_test,y_pred)\n",
        "print(\"accuracy score(Formula Method): \",(sum(np.diag(cm))/len(y_test))*100,\"%\") #Just for % representation i used *100 but actual score will be in decimal"
      ],
      "metadata": {
        "id": "BKtFj8irA0Rv"
      },
      "execution_count": null,
      "outputs": []
    },
    {
      "cell_type": "code",
      "source": [
        "print(\"accuracy score(Function method): \",accuracy_score(y_test,y_pred)*100,\"%\") #Just for % representation i used *100 but actual score will be in decimal"
      ],
      "metadata": {
        "id": "5Jb0c2KYBioL"
      },
      "execution_count": null,
      "outputs": []
    },
    {
      "cell_type": "code",
      "source": [
        "# DecisionTree Classification\n",
        "class DecisionTree():\n",
        "  def __init__(self):\n",
        "    print(\"DecisionTree Classification\")\n",
        "\n",
        "  def decisiontree(self,x,y):\n",
        "\n",
        "    # Train and Test data splitting\n",
        "    x_train,x_test,y_train,y_test=train_test_split(x,y,test_size=0.30,random_state=0)\n",
        "\n",
        "\n",
        "    classifier=DecisionTreeClassifier(criterion='entropy',random_state=0)\n",
        "    classifier.fit(x_train,y_train)\n",
        "\n",
        "\n",
        "    y_pred=classifier.predict(x_test)\n",
        "\n",
        "\n",
        "    cm=confusion_matrix(y_test,y_pred)\n",
        "    print(\"accuracy score(Formula Method): \",(sum(np.diag(cm))/len(y_test))*100,\"%\") \n",
        "    #Just for % representation i used *100 but actual score will be in decimal\n",
        "\n",
        "    print(\"accuracy score(Function method): \",accuracy_score(y_test,y_pred)*100,\"%\") \n",
        "    #Just for % representation i used *100 but actual score will be in decimal\n",
        "\n",
        "\n",
        "    # To predict user input\n",
        "    user_data=[]\n",
        "    while True:\n",
        "      print(\"**Type 'break--' to exit the loop**\",'\\n')\n",
        "      print(\"your inputs: \",user_data)\n",
        "      try:\n",
        "        user_input=input(\"Enter your data: \")\n",
        "        if user_input==\"break--\":\n",
        "          break\n",
        "        else:\n",
        "          user_data.append(float(user_input))\n",
        "        print()\n",
        "      except Exception as e:\n",
        "        print(\"Please enter the correct value\")\n",
        "        break\n",
        "\n",
        "\n",
        "    try: \n",
        "      user_pred=classifier.predict([user_data])\n",
        "      print(\"Result : \",user_pred)\n",
        "    except Exception as e:\n",
        "        print(\"Unable to predict result with the given data\")\n",
        "    \n",
        "    \n",
        "# Selecting Dependent and Independent data\n",
        "dataset=pd.read_csv(\"/content/Iris_new.csv\",encoding='utf-8')\n",
        "print(\"Raw dataset\",len(dataset))\n",
        "\n",
        "# Data cleaning\n",
        "dataset=dataset.drop_duplicates()\n",
        "dataset=dataset.dropna()\n",
        "print(\"Cleaned dataset\",len(dataset))\n",
        "print(dataset.head())\n",
        "\n",
        "x=dataset.iloc[:,0:4].values\n",
        "\n",
        "y=dataset.iloc[:,[-1]].values\n",
        "\n",
        "\n",
        "\n",
        "# Doing feature scaling is depends on the processing dataset\n",
        "# sc=StandardScaler()\n",
        "# x1=sc.fit_transform(x)\n",
        "# print(x1)\n",
        "\n",
        "# Data processing and prediction\n",
        "dectree=DecisionTree()\n",
        "dectree.decisiontree(x,y)\n",
        "\n",
        "\n"
      ],
      "metadata": {
        "colab": {
          "base_uri": "https://localhost:8080/"
        },
        "id": "vHi6E5d4CVng",
        "outputId": "be8480a3-1b56-4ab7-fef4-2d3832f3620e"
      },
      "execution_count": 54,
      "outputs": [
        {
          "output_type": "stream",
          "name": "stdout",
          "text": [
            "Raw dataset 150\n",
            "Cleaned dataset 147\n",
            "   sepal_length  sepal_width  petal_length  petal_width spectype\n",
            "0           5.1          3.5           1.4          0.2   setosa\n",
            "1           4.9          3.0           1.4          0.2   setosa\n",
            "2           4.7          3.2           1.3          0.2   setosa\n",
            "3           4.6          3.1           1.5          0.2   setosa\n",
            "4           5.0          3.6           1.4          0.2   setosa\n",
            "DecisionTree Classification\n",
            "accuracy score(Formula Method):  95.55555555555556 %\n",
            "accuracy score(Function method):  95.55555555555556 %\n",
            "**Type 'break--' to exit the loop** \n",
            "\n",
            "your inputs:  []\n",
            "Enter your data: 5\n",
            "\n",
            "**Type 'break--' to exit the loop** \n",
            "\n",
            "your inputs:  [5.0]\n",
            "Enter your data: 4\n",
            "\n",
            "**Type 'break--' to exit the loop** \n",
            "\n",
            "your inputs:  [5.0, 4.0]\n",
            "Enter your data: 3\n",
            "\n",
            "**Type 'break--' to exit the loop** \n",
            "\n",
            "your inputs:  [5.0, 4.0, 3.0]\n",
            "Enter your data: 2\n",
            "\n",
            "**Type 'break--' to exit the loop** \n",
            "\n",
            "your inputs:  [5.0, 4.0, 3.0, 2.0]\n",
            "Enter your data: break--\n",
            "Result :  ['versicolor']\n"
          ]
        }
      ]
    }
  ]
}