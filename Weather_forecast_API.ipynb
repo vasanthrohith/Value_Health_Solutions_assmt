{
  "nbformat": 4,
  "nbformat_minor": 0,
  "metadata": {
    "colab": {
      "provenance": [],
      "toc_visible": true,
      "authorship_tag": "ABX9TyM0nJx7s1I64KPmrEJ5gj21",
      "include_colab_link": true
    },
    "kernelspec": {
      "name": "python3",
      "display_name": "Python 3"
    },
    "language_info": {
      "name": "python"
    }
  },
  "cells": [
    {
      "cell_type": "markdown",
      "metadata": {
        "id": "view-in-github",
        "colab_type": "text"
      },
      "source": [
        "<a href=\"https://colab.research.google.com/github/vasanthrohith/Value_Health_Solutions_assmt/blob/main/Weather_forecast_API.ipynb\" target=\"_parent\"><img src=\"https://colab.research.google.com/assets/colab-badge.svg\" alt=\"Open In Colab\"/></a>"
      ]
    },
    {
      "cell_type": "code",
      "execution_count": 2,
      "metadata": {
        "id": "Dhqvr81RHspO"
      },
      "outputs": [],
      "source": [
        "import requests\n",
        "import json"
      ]
    },
    {
      "cell_type": "code",
      "source": [
        "def weatherforecast(city,API_key):\n",
        "    url=\"http://api.openweathermap.org/data/2.5/weather?\"\n",
        "    \n",
        "    complete_url = url + \"appid=\" + API_key + \"&q=\" + city\n",
        "\n",
        "    print(complete_url)\n",
        "\n",
        "    response = requests.get(complete_url).json()\n",
        "    print(response['cod'])\n",
        "    # 200-> good to go/401 -> error in connection\n",
        "    # we got the json object. convert to dict\n",
        "    \n",
        "    if response['cod']==200:\n",
        "\n",
        "        print(response)   #from this dictionary file we can fetch our necessary data\n",
        "        #storing the datas by it's key\n",
        "        location=response['name']\n",
        "        source_0=response['main']\n",
        "        source_1=response['weather']\n",
        "        source_2=response['wind']\n",
        "        # print(source_0)\n",
        "        print(\"Location: \",location)\n",
        "        print(\"Temperature(F): \",source_0['temp'],\"F\")\n",
        "        print(\"Humidity: \",source_0['humidity'])\n",
        "        print(\"Weather: \",source_1[0]['main'])\n",
        "        print(\"Wind speed: \",source_2['speed'])\n",
        "\n",
        "\n",
        "    else:\n",
        "        print(\"Connection Error\")\n",
        "\n",
        "\n",
        "city=\"Chennai\"\n",
        "API_Key=\"d4f7751737def2d4df350f4e76e63ac6\"\n",
        "\n",
        "weatherforecast(city,API_Key)\n",
        "\n"
      ],
      "metadata": {
        "colab": {
          "base_uri": "https://localhost:8080/"
        },
        "id": "OFF7B8RePYER",
        "outputId": "ba206be1-dfa0-40f3-d7ef-731d11c3a812"
      },
      "execution_count": 24,
      "outputs": [
        {
          "output_type": "stream",
          "name": "stdout",
          "text": [
            "http://api.openweathermap.org/data/2.5/weather?appid=d4f7751737def2d4df350f4e76e63ac6&q=Chennai\n",
            "200\n",
            "{'coord': {'lon': 80.2785, 'lat': 13.0878}, 'weather': [{'id': 721, 'main': 'Haze', 'description': 'haze', 'icon': '50d'}], 'base': 'stations', 'main': {'temp': 308.69, 'feels_like': 315.69, 'temp_min': 308.69, 'temp_max': 310.14, 'pressure': 1007, 'humidity': 70}, 'visibility': 5000, 'wind': {'speed': 4.12, 'deg': 290}, 'clouds': {'all': 40}, 'dt': 1686133357, 'sys': {'type': 2, 'id': 2012809, 'country': 'IN', 'sunrise': 1686096704, 'sunset': 1686143029}, 'timezone': 19800, 'id': 1264527, 'name': 'Chennai', 'cod': 200}\n",
            "Location:  Chennai\n",
            "Temperature(F):  308.69 F\n",
            "Humidity:  70\n",
            "Weather:  Haze\n",
            "Wind speed:  4.12\n"
          ]
        }
      ]
    }
  ]
}